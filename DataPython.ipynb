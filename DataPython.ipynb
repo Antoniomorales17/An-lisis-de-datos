{
 "cells": [
  {
   "cell_type": "code",
   "execution_count": 1,
   "id": "d8188e15-ce59-426b-8d19-7d166f721c57",
   "metadata": {
    "tags": []
   },
   "outputs": [
    {
     "name": "stdout",
     "output_type": "stream",
     "text": [
      "Page Title: Amazon.com, Inc. (AMZN) Stock Historical Prices & Data - Yahoo Finance\n",
      "           Date      Open      High       Low     Close Adj Close       Volume\n",
      "0  Jan 01, 2021  3,270.00  3,363.89  3,086.00  3,206.20  3,206.20   71,528,900\n",
      "1  Dec 01, 2020  3,188.50  3,350.65  3,072.82  3,256.93  3,256.93   77,556,200\n",
      "2  Nov 01, 2020  3,061.74  3,366.80  2,950.12  3,168.04  3,168.04   90,810,500\n",
      "3  Oct 01, 2020  3,208.00  3,496.24  3,019.00  3,036.15  3,036.15  116,226,100\n",
      "4  Sep 01, 2020  3,489.58  3,552.25  2,871.00  3,148.73  3,148.73  115,899,300\n",
      "Columnas del DataFrame: ['Date', 'Open', 'High', 'Low', 'Close', 'Adj Close', 'Volume']\n",
      "Open en la última fila: 656.29\n"
     ]
    }
   ],
   "source": [
    "import pandas as pd\n",
    "import requests\n",
    "from bs4 import BeautifulSoup\n",
    "\n",
    "# URL de la página web que contiene los datos de Amazon\n",
    "url = \"https://cf-courses-data.s3.us.cloud-object-storage.appdomain.cloud/IBMDeveloperSkillsNetwork-PY0220EN-SkillsNetwork/labs/project/amazon_data_webpage.html\"\n",
    "\n",
    "# Descargar la página web\n",
    "response = requests.get(url)\n",
    "html_data = response.text\n",
    "\n",
    "# Crear un objeto BeautifulSoup\n",
    "soup = BeautifulSoup(html_data, 'html5lib')\n",
    "\n",
    "# Verificar el título de la página\n",
    "page_title = soup.title.string\n",
    "print(\"Page Title:\", page_title)\n",
    "\n",
    "# Crear un DataFrame vacío con las columnas necesarias\n",
    "amazon_data = pd.DataFrame(columns=[\"Date\", \"Open\", \"High\", \"Low\", \"Close\", \"Adj Close\", \"Volume\"])\n",
    "\n",
    "# Extraer datos de la tabla\n",
    "for row in soup.find(\"tbody\").find_all(\"tr\"):\n",
    "    col = row.find_all(\"td\")\n",
    "    date = col[0].text\n",
    "    open_price = col[1].text\n",
    "    high = col[2].text\n",
    "    low = col[3].text\n",
    "    close = col[4].text\n",
    "    adj_close = col[5].text\n",
    "    volume = col[6].text\n",
    "    \n",
    "    # Añadir los datos al DataFrame\n",
    "    amazon_data = amazon_data.append({\"Date\": date, \"Open\": open_price, \"High\": high, \"Low\": low, \"Close\": close, \"Adj Close\": adj_close, \"Volume\": volume}, ignore_index=True)\n",
    "\n",
    "# Mostrar las primeras filas del DataFrame\n",
    "print(amazon_data.head())\n",
    "\n",
    "# Nombres de las columnas\n",
    "print(\"Columnas del DataFrame:\", amazon_data.columns.tolist())\n",
    "\n",
    "# Valor de 'Open' en la última fila\n",
    "last_open_value = amazon_data.iloc[-1]['Open']\n",
    "print(\"Open en la última fila:\", last_open_value)\n"
   ]
  },
  {
   "cell_type": "code",
   "execution_count": 2,
   "id": "eb92431a-bcdf-4c2d-84b6-69e4f9db734c",
   "metadata": {
    "tags": []
   },
   "outputs": [
    {
     "name": "stdout",
     "output_type": "stream",
     "text": [
      "           Date      Open      High       Low     Close Adj Close       Volume\n",
      "0  Jan 01, 2021  3,270.00  3,363.89  3,086.00  3,206.20  3,206.20   71,528,900\n",
      "1  Dec 01, 2020  3,188.50  3,350.65  3,072.82  3,256.93  3,256.93   77,556,200\n",
      "2  Nov 01, 2020  3,061.74  3,366.80  2,950.12  3,168.04  3,168.04   90,810,500\n",
      "3  Oct 01, 2020  3,208.00  3,496.24  3,019.00  3,036.15  3,036.15  116,226,100\n",
      "4  Sep 01, 2020  3,489.58  3,552.25  2,871.00  3,148.73  3,148.73  115,899,300\n"
     ]
    }
   ],
   "source": [
    "print(amazon_data.head())"
   ]
  },
  {
   "cell_type": "code",
   "execution_count": null,
   "id": "2d0afc48-eaf7-4d5b-961b-7418b81996e2",
   "metadata": {},
   "outputs": [],
   "source": []
  }
 ],
 "metadata": {
  "kernelspec": {
   "display_name": "Python",
   "language": "python",
   "name": "conda-env-python-py"
  },
  "language_info": {
   "codemirror_mode": {
    "name": "ipython",
    "version": 3
   },
   "file_extension": ".py",
   "mimetype": "text/x-python",
   "name": "python",
   "nbconvert_exporter": "python",
   "pygments_lexer": "ipython3",
   "version": "3.7.12"
  }
 },
 "nbformat": 4,
 "nbformat_minor": 5
}
